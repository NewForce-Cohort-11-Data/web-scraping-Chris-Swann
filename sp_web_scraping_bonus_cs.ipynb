{
 "cells": [
  {
   "cell_type": "code",
   "execution_count": 114,
   "id": "93735c32-f575-45e6-9915-78adbfb76625",
   "metadata": {},
   "outputs": [],
   "source": [
    "import requests\n",
    "from bs4 import BeautifulSoup as BS\n",
    "import pandas as pd"
   ]
  },
  {
   "cell_type": "code",
   "execution_count": 115,
   "id": "8c207cba-6765-4bb2-8945-ad87926dd1ab",
   "metadata": {},
   "outputs": [
    {
     "name": "stdout",
     "output_type": "stream",
     "text": [
      "<class 'requests.models.Response'>\n",
      "200\n",
      "<Response [200]>\n"
     ]
    }
   ],
   "source": [
    "url = 'https://www.billboard.com/charts/hot-100/'\n",
    "\n",
    "response = requests.get(url)\n",
    "soup = BS(response.content, 'html.parser')\n",
    "\n",
    "print(type(response))\n",
    "print(response.status_code)\n",
    "print(requests.get(url))"
   ]
  },
  {
   "cell_type": "code",
   "execution_count": 46,
   "id": "e414d947-c655-42dc-a766-12e73db7ec49",
   "metadata": {},
   "outputs": [
    {
     "data": {
      "text/plain": [
       "'1'"
      ]
     },
     "execution_count": 46,
     "metadata": {},
     "output_type": "execute_result"
    }
   ],
   "source": [
    "first = soup.find('li', class_ = 'o-chart-results-list__item').text.strip()\n",
    "first"
   ]
  },
  {
   "cell_type": "code",
   "execution_count": 37,
   "id": "59b262eb-b561-4757-af16-e970900c627f",
   "metadata": {},
   "outputs": [
    {
     "data": {
      "text/plain": [
       "'Golden'"
      ]
     },
     "execution_count": 37,
     "metadata": {},
     "output_type": "execute_result"
    }
   ],
   "source": [
    "song = soup.findAll('h3', id = 'title-of-a-story')[2].text.strip()\n",
    "song"
   ]
  },
  {
   "cell_type": "code",
   "execution_count": 42,
   "id": "951f8125-8dbc-4462-b651-1c5e3bbece8e",
   "metadata": {},
   "outputs": [
    {
     "data": {
      "text/plain": [
       "'HUNTR/X: EJAE, Audrey Nuna & REI AMI'"
      ]
     },
     "execution_count": 42,
     "metadata": {},
     "output_type": "execute_result"
    }
   ],
   "source": [
    "artist = soup.findAll('span', class_ = 'c-label')[1].text.strip()\n",
    "artist"
   ]
  },
  {
   "cell_type": "code",
   "execution_count": 57,
   "id": "0e408d27-5911-4571-a25f-845df97cc80d",
   "metadata": {},
   "outputs": [
    {
     "name": "stdout",
     "output_type": "stream",
     "text": [
      "1\n",
      "1\n",
      "14\n"
     ]
    }
   ],
   "source": [
    "stats = soup.find_all('span', class_ = 'c-label')\n",
    "lastweek = stats[2].text.strip()\n",
    "peak = stats[3].text.strip()\n",
    "weeks_chart = stats[4].text.strip()\n",
    "\n",
    "print(lastweek)\n",
    "print(peak)\n",
    "print(weeks_chart)"
   ]
  },
  {
   "cell_type": "markdown",
   "id": "15226533-f8da-4acf-8840-cbd0460c4950",
   "metadata": {},
   "source": [
    "#### Start with isolating #1 on this weeks chart"
   ]
  },
  {
   "cell_type": "code",
   "execution_count": 116,
   "id": "ea63b117-533f-4987-85e9-a96082890173",
   "metadata": {},
   "outputs": [
    {
     "data": {
      "text/html": [
       "<div>\n",
       "<style scoped>\n",
       "    .dataframe tbody tr th:only-of-type {\n",
       "        vertical-align: middle;\n",
       "    }\n",
       "\n",
       "    .dataframe tbody tr th {\n",
       "        vertical-align: top;\n",
       "    }\n",
       "\n",
       "    .dataframe thead th {\n",
       "        text-align: right;\n",
       "    }\n",
       "</style>\n",
       "<table border=\"1\" class=\"dataframe\">\n",
       "  <thead>\n",
       "    <tr style=\"text-align: right;\">\n",
       "      <th></th>\n",
       "      <th>This Week</th>\n",
       "      <th>Song</th>\n",
       "      <th>Artist</th>\n",
       "      <th>Last Week</th>\n",
       "      <th>Peak Position</th>\n",
       "      <th>Weeks on Chart</th>\n",
       "    </tr>\n",
       "  </thead>\n",
       "  <tbody>\n",
       "    <tr>\n",
       "      <th>0</th>\n",
       "      <td>1</td>\n",
       "      <td>Golden</td>\n",
       "      <td>HUNTR/X: EJAE, Audrey Nuna &amp; REI AMI</td>\n",
       "      <td>1</td>\n",
       "      <td>1</td>\n",
       "      <td>14</td>\n",
       "    </tr>\n",
       "  </tbody>\n",
       "</table>\n",
       "</div>"
      ],
      "text/plain": [
       "  This Week    Song                                Artist Last Week  \\\n",
       "0         1  Golden  HUNTR/X: EJAE, Audrey Nuna & REI AMI         1   \n",
       "\n",
       "  Peak Position Weeks on Chart  \n",
       "0             1             14  "
      ]
     },
     "execution_count": 116,
     "metadata": {},
     "output_type": "execute_result"
    }
   ],
   "source": [
    "data=[]\n",
    "\n",
    "# First song (rank 1) has a unique structure compared to 2-100\n",
    "first = soup.find('li', class_ = 'o-chart-results-list__item').text.strip()\n",
    "song = soup.findAll('h3', id = 'title-of-a-story')[2].text.strip()\n",
    "artist = soup.findAll('span', class_ = 'c-label')[1].text.strip()\n",
    "stats = soup.findAll('span', class_ = 'c-label')\n",
    "lastweek = stats[2].text.strip()\n",
    "peak = stats[3].text.strip()\n",
    "weeks_chart = stats[4].text.strip()\n",
    "\n",
    "\n",
    "data.append({\n",
    "    \"This Week\": first,\n",
    "    \"Song\": song,\n",
    "    \"Artist\": artist,\n",
    "    \"Last Week\": lastweek,\n",
    "    \"Peak Position\": peak,\n",
    "    \"Weeks on Chart\": weeks_chart\n",
    "})\n",
    "\n",
    "data = pd.DataFrame(data)\n",
    "data"
   ]
  },
  {
   "cell_type": "markdown",
   "id": "c6d05f12-b2a5-4555-b3fa-363d6980c68e",
   "metadata": {},
   "source": [
    "#### Now create a loop for extracting 2-100"
   ]
  },
  {
   "cell_type": "code",
   "execution_count": null,
   "id": "c6db6fb5-c6ce-4c0c-9eb4-11c7b6b98b0f",
   "metadata": {},
   "outputs": [],
   "source": []
  },
  {
   "cell_type": "markdown",
   "id": "cef6c785-3b53-42ee-b7f1-63d3f6e396e8",
   "metadata": {},
   "source": [
    "#### Found a pandas library for billboard"
   ]
  },
  {
   "cell_type": "code",
   "execution_count": 135,
   "id": "a6f65416-8fa0-4e1d-8929-115648c19bf0",
   "metadata": {},
   "outputs": [
    {
     "name": "stdout",
     "output_type": "stream",
     "text": [
      "Requirement already satisfied: billboard.py in c:\\users\\user\\anaconda3\\lib\\site-packages (7.1.0)\n",
      "Requirement already satisfied: pandas in c:\\users\\user\\anaconda3\\lib\\site-packages (2.2.3)\n",
      "Requirement already satisfied: beautifulsoup4>=4.4.1 in c:\\users\\user\\anaconda3\\lib\\site-packages (from billboard.py) (4.12.3)\n",
      "Requirement already satisfied: requests>=2.2.1 in c:\\users\\user\\anaconda3\\lib\\site-packages (from billboard.py) (2.32.3)\n",
      "Requirement already satisfied: numpy>=1.26.0 in c:\\users\\user\\anaconda3\\lib\\site-packages (from pandas) (2.1.3)\n",
      "Requirement already satisfied: python-dateutil>=2.8.2 in c:\\users\\user\\anaconda3\\lib\\site-packages (from pandas) (2.9.0.post0)\n",
      "Requirement already satisfied: pytz>=2020.1 in c:\\users\\user\\anaconda3\\lib\\site-packages (from pandas) (2024.1)\n",
      "Requirement already satisfied: tzdata>=2022.7 in c:\\users\\user\\anaconda3\\lib\\site-packages (from pandas) (2025.2)\n",
      "Requirement already satisfied: soupsieve>1.2 in c:\\users\\user\\anaconda3\\lib\\site-packages (from beautifulsoup4>=4.4.1->billboard.py) (2.5)\n",
      "Requirement already satisfied: six>=1.5 in c:\\users\\user\\anaconda3\\lib\\site-packages (from python-dateutil>=2.8.2->pandas) (1.17.0)\n",
      "Requirement already satisfied: charset-normalizer<4,>=2 in c:\\users\\user\\anaconda3\\lib\\site-packages (from requests>=2.2.1->billboard.py) (3.3.2)\n",
      "Requirement already satisfied: idna<4,>=2.5 in c:\\users\\user\\anaconda3\\lib\\site-packages (from requests>=2.2.1->billboard.py) (3.7)\n",
      "Requirement already satisfied: urllib3<3,>=1.21.1 in c:\\users\\user\\anaconda3\\lib\\site-packages (from requests>=2.2.1->billboard.py) (2.3.0)\n",
      "Requirement already satisfied: certifi>=2017.4.17 in c:\\users\\user\\anaconda3\\lib\\site-packages (from requests>=2.2.1->billboard.py) (2025.8.3)\n"
     ]
    }
   ],
   "source": [
    "!pip install billboard.py pandas\n",
    "import billboard, pandas as pd\n",
    "\n",
    "chart = billboard.ChartData('hot-100')   # or 'billboard-200', etc.\n",
    "\n",
    "data = [\n",
    "    {\n",
    "        \"This Week Pos\": entry.rank,\n",
    "        \"Song\": entry.title,\n",
    "        \"Artist\": entry.artist,\n",
    "        \"Last Week\": entry.lastPos or None,\n",
    "        \"Peak Position\": entry.peakPos,\n",
    "        \"Weeks on Chart\": entry.weeks\n",
    "    }\n",
    "    for entry in chart\n",
    "]\n",
    "\n",
    "df = pd.DataFrame(data)"
   ]
  },
  {
   "cell_type": "code",
   "execution_count": 134,
   "id": "44d69786-e39d-409e-a025-48d83b2afaba",
   "metadata": {},
   "outputs": [
    {
     "data": {
      "text/html": [
       "<div>\n",
       "<style scoped>\n",
       "    .dataframe tbody tr th:only-of-type {\n",
       "        vertical-align: middle;\n",
       "    }\n",
       "\n",
       "    .dataframe tbody tr th {\n",
       "        vertical-align: top;\n",
       "    }\n",
       "\n",
       "    .dataframe thead th {\n",
       "        text-align: right;\n",
       "    }\n",
       "</style>\n",
       "<table border=\"1\" class=\"dataframe\">\n",
       "  <thead>\n",
       "    <tr style=\"text-align: right;\">\n",
       "      <th></th>\n",
       "      <th>This Week Pos</th>\n",
       "      <th>Song</th>\n",
       "      <th>Artist</th>\n",
       "      <th>Last Week</th>\n",
       "      <th>Peak Position</th>\n",
       "      <th>Weeks on Chart</th>\n",
       "    </tr>\n",
       "  </thead>\n",
       "  <tbody>\n",
       "    <tr>\n",
       "      <th>0</th>\n",
       "      <td>1</td>\n",
       "      <td>Golden</td>\n",
       "      <td>HUNTR/X: EJAE, Audrey Nuna &amp; REI AMI</td>\n",
       "      <td>1.0</td>\n",
       "      <td>1</td>\n",
       "      <td>14</td>\n",
       "    </tr>\n",
       "    <tr>\n",
       "      <th>1</th>\n",
       "      <td>2</td>\n",
       "      <td>Ordinary</td>\n",
       "      <td>Alex Warren</td>\n",
       "      <td>2.0</td>\n",
       "      <td>1</td>\n",
       "      <td>33</td>\n",
       "    </tr>\n",
       "    <tr>\n",
       "      <th>2</th>\n",
       "      <td>3</td>\n",
       "      <td>Soda Pop</td>\n",
       "      <td>Saja Boys: Andrew Choi, Neckwav, Danny Chung, ...</td>\n",
       "      <td>5.0</td>\n",
       "      <td>3</td>\n",
       "      <td>13</td>\n",
       "    </tr>\n",
       "    <tr>\n",
       "      <th>3</th>\n",
       "      <td>4</td>\n",
       "      <td>What I Want</td>\n",
       "      <td>Morgan Wallen Featuring Tate McRae</td>\n",
       "      <td>4.0</td>\n",
       "      <td>1</td>\n",
       "      <td>19</td>\n",
       "    </tr>\n",
       "    <tr>\n",
       "      <th>4</th>\n",
       "      <td>5</td>\n",
       "      <td>Your Idol</td>\n",
       "      <td>Saja Boys: Andrew Choi, Neckwav, Danny Chung, ...</td>\n",
       "      <td>6.0</td>\n",
       "      <td>4</td>\n",
       "      <td>14</td>\n",
       "    </tr>\n",
       "  </tbody>\n",
       "</table>\n",
       "</div>"
      ],
      "text/plain": [
       "   This Week Pos         Song  \\\n",
       "0              1       Golden   \n",
       "1              2     Ordinary   \n",
       "2              3     Soda Pop   \n",
       "3              4  What I Want   \n",
       "4              5    Your Idol   \n",
       "\n",
       "                                              Artist  Last Week  \\\n",
       "0               HUNTR/X: EJAE, Audrey Nuna & REI AMI        1.0   \n",
       "1                                        Alex Warren        2.0   \n",
       "2  Saja Boys: Andrew Choi, Neckwav, Danny Chung, ...        5.0   \n",
       "3                 Morgan Wallen Featuring Tate McRae        4.0   \n",
       "4  Saja Boys: Andrew Choi, Neckwav, Danny Chung, ...        6.0   \n",
       "\n",
       "   Peak Position  Weeks on Chart  \n",
       "0              1              14  \n",
       "1              1              33  \n",
       "2              3              13  \n",
       "3              1              19  \n",
       "4              4              14  "
      ]
     },
     "execution_count": 134,
     "metadata": {},
     "output_type": "execute_result"
    }
   ],
   "source": [
    "df.head()"
   ]
  },
  {
   "cell_type": "code",
   "execution_count": 139,
   "id": "d27f3d15-6acb-4df2-a041-fab6ff1305f3",
   "metadata": {},
   "outputs": [
    {
     "data": {
      "text/html": [
       "<div>\n",
       "<style scoped>\n",
       "    .dataframe tbody tr th:only-of-type {\n",
       "        vertical-align: middle;\n",
       "    }\n",
       "\n",
       "    .dataframe tbody tr th {\n",
       "        vertical-align: top;\n",
       "    }\n",
       "\n",
       "    .dataframe thead th {\n",
       "        text-align: right;\n",
       "    }\n",
       "</style>\n",
       "<table border=\"1\" class=\"dataframe\">\n",
       "  <thead>\n",
       "    <tr style=\"text-align: right;\">\n",
       "      <th></th>\n",
       "      <th>This Week Pos</th>\n",
       "      <th>Song</th>\n",
       "      <th>Artist</th>\n",
       "      <th>Last Week</th>\n",
       "      <th>Peak Position</th>\n",
       "      <th>Weeks on Chart</th>\n",
       "    </tr>\n",
       "  </thead>\n",
       "  <tbody>\n",
       "    <tr>\n",
       "      <th>0</th>\n",
       "      <td>1</td>\n",
       "      <td>Golden</td>\n",
       "      <td>HUNTR/X: EJAE, Audrey Nuna &amp; REI AMI</td>\n",
       "      <td>1</td>\n",
       "      <td>1</td>\n",
       "      <td>14</td>\n",
       "    </tr>\n",
       "    <tr>\n",
       "      <th>1</th>\n",
       "      <td>2</td>\n",
       "      <td>Ordinary</td>\n",
       "      <td>Alex Warren</td>\n",
       "      <td>2</td>\n",
       "      <td>1</td>\n",
       "      <td>33</td>\n",
       "    </tr>\n",
       "    <tr>\n",
       "      <th>2</th>\n",
       "      <td>3</td>\n",
       "      <td>Soda Pop</td>\n",
       "      <td>Saja Boys: Andrew Choi, Neckwav, Danny Chung, ...</td>\n",
       "      <td>5</td>\n",
       "      <td>3</td>\n",
       "      <td>13</td>\n",
       "    </tr>\n",
       "    <tr>\n",
       "      <th>3</th>\n",
       "      <td>4</td>\n",
       "      <td>What I Want</td>\n",
       "      <td>Morgan Wallen Featuring Tate McRae</td>\n",
       "      <td>4</td>\n",
       "      <td>1</td>\n",
       "      <td>19</td>\n",
       "    </tr>\n",
       "    <tr>\n",
       "      <th>4</th>\n",
       "      <td>5</td>\n",
       "      <td>Your Idol</td>\n",
       "      <td>Saja Boys: Andrew Choi, Neckwav, Danny Chung, ...</td>\n",
       "      <td>6</td>\n",
       "      <td>4</td>\n",
       "      <td>14</td>\n",
       "    </tr>\n",
       "  </tbody>\n",
       "</table>\n",
       "</div>"
      ],
      "text/plain": [
       "   This Week Pos         Song  \\\n",
       "0              1       Golden   \n",
       "1              2     Ordinary   \n",
       "2              3     Soda Pop   \n",
       "3              4  What I Want   \n",
       "4              5    Your Idol   \n",
       "\n",
       "                                              Artist  Last Week  \\\n",
       "0               HUNTR/X: EJAE, Audrey Nuna & REI AMI          1   \n",
       "1                                        Alex Warren          2   \n",
       "2  Saja Boys: Andrew Choi, Neckwav, Danny Chung, ...          5   \n",
       "3                 Morgan Wallen Featuring Tate McRae          4   \n",
       "4  Saja Boys: Andrew Choi, Neckwav, Danny Chung, ...          6   \n",
       "\n",
       "   Peak Position  Weeks on Chart  \n",
       "0              1              14  \n",
       "1              1              33  \n",
       "2              3              13  \n",
       "3              1              19  \n",
       "4              4              14  "
      ]
     },
     "execution_count": 139,
     "metadata": {},
     "output_type": "execute_result"
    }
   ],
   "source": [
    "df['Last Week'] = df['Last Week'].astype('Int64')\n",
    "df.head()"
   ]
  },
  {
   "cell_type": "code",
   "execution_count": null,
   "id": "055c18b0-0cec-4762-8c91-972ec6060a53",
   "metadata": {},
   "outputs": [],
   "source": []
  }
 ],
 "metadata": {
  "kernelspec": {
   "display_name": "Python [conda env:base] *",
   "language": "python",
   "name": "conda-base-py"
  },
  "language_info": {
   "codemirror_mode": {
    "name": "ipython",
    "version": 3
   },
   "file_extension": ".py",
   "mimetype": "text/x-python",
   "name": "python",
   "nbconvert_exporter": "python",
   "pygments_lexer": "ipython3",
   "version": "3.13.5"
  }
 },
 "nbformat": 4,
 "nbformat_minor": 5
}
