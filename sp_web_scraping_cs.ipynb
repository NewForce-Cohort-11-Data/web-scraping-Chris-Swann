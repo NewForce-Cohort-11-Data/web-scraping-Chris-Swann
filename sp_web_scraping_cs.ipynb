{
 "cells": [
  {
   "cell_type": "markdown",
   "id": "2fa198b3-b91c-4b29-940f-f9fccdfa5a9f",
   "metadata": {},
   "source": [
    "# **Web Scraping Solo Project**"
   ]
  },
  {
   "cell_type": "markdown",
   "id": "0d926aed-2061-4ef6-b602-64dfd6a79640",
   "metadata": {},
   "source": [
    "## 1. Start by performing a GET request on the url above and convert the response into a BeautifulSoup object."
   ]
  },
  {
   "cell_type": "code",
   "execution_count": 10,
   "id": "9a87c133-3980-4a57-87bd-844b54b75c5f",
   "metadata": {},
   "outputs": [],
   "source": [
    "import requests\n",
    "from bs4 import BeautifulSoup as BS"
   ]
  },
  {
   "cell_type": "code",
   "execution_count": 11,
   "id": "bdbb80fc-e961-475a-9db8-211520a8892b",
   "metadata": {},
   "outputs": [],
   "source": [
    "URL = 'https://realpython.github.io/fake-jobs/'\n",
    "\n",
    "# # Not always needed\n",
    "# headers = {\n",
    "#     \"User-Agent\": \"MyPythonScript/1.0 (contact@example.com)\"\n",
    "# }\n",
    "\n",
    "response = requests.get(URL) # (URL, headers = headers) if headers needed"
   ]
  },
  {
   "cell_type": "code",
   "execution_count": 12,
   "id": "1531e622-eaf6-403d-b072-dc925c0ee088",
   "metadata": {},
   "outputs": [
    {
     "data": {
      "text/plain": [
       "requests.models.Response"
      ]
     },
     "execution_count": 12,
     "metadata": {},
     "output_type": "execute_result"
    }
   ],
   "source": [
    "type(response)"
   ]
  },
  {
   "cell_type": "code",
   "execution_count": 13,
   "id": "25009b7d-b9de-462f-a6f2-68f7d36467ce",
   "metadata": {},
   "outputs": [
    {
     "data": {
      "text/plain": [
       "200"
      ]
     },
     "execution_count": 13,
     "metadata": {},
     "output_type": "execute_result"
    }
   ],
   "source": [
    "response.status_code"
   ]
  },
  {
   "cell_type": "code",
   "execution_count": 14,
   "id": "4168e031-e2ee-43c7-ab83-8dffa2f8fe7d",
   "metadata": {},
   "outputs": [
    {
     "data": {
      "text/plain": [
       "<Response [200]>"
      ]
     },
     "execution_count": 14,
     "metadata": {},
     "output_type": "execute_result"
    }
   ],
   "source": [
    "requests.get('https://realpython.github.io/fake-jobs/') # (, headers = headers) if needed"
   ]
  },
  {
   "cell_type": "code",
   "execution_count": 15,
   "id": "601c8e10-a251-4d72-b296-d25d1ccfe6a0",
   "metadata": {},
   "outputs": [],
   "source": [
    "soup = BS(response.text)"
   ]
  },
  {
   "cell_type": "code",
   "execution_count": 78,
   "id": "37f14125-b1d6-47fb-8375-a5050fa9b080",
   "metadata": {},
   "outputs": [],
   "source": [
    "# print(soup.prettify())"
   ]
  },
  {
   "cell_type": "markdown",
   "id": "49702428-affb-4046-8115-49cd347c4965",
   "metadata": {},
   "source": [
    "#### Use the .find method to find the tag containing the first job title (\"Senior Python Developer\"). Hint: can you find a tag type and/or a class that could be helpful for extracting this information? Extract the text from this title."
   ]
  },
  {
   "cell_type": "code",
   "execution_count": 31,
   "id": "3bcbc839-e97e-4a5e-8c69-386ed6334b69",
   "metadata": {},
   "outputs": [
    {
     "data": {
      "text/plain": [
       "'Senior Python Developer'"
      ]
     },
     "execution_count": 31,
     "metadata": {},
     "output_type": "execute_result"
    }
   ],
   "source": [
    "# Inspect element to find 'Senior Python Developer' is in tag type 'h2' class 'title is-5'. Using 'title' alone will\n",
    "# return the desired result. *** Take note: class_ *** class does not work\n",
    "\n",
    "soup.find('h2', class_ = ['title', 'is-5']).text"
   ]
  },
  {
   "cell_type": "markdown",
   "id": "d937aebb-1151-401f-a1c3-6032cfc048f4",
   "metadata": {},
   "source": [
    "#### Now, use what you did for the first title, but extract the job title for all jobs on this page. Store the results in a list."
   ]
  },
  {
   "cell_type": "code",
   "execution_count": 324,
   "id": "3424bb2c-1034-4a94-a734-b4576fd9a21e",
   "metadata": {},
   "outputs": [],
   "source": [
    "# jobtitles = soup.findAll('h2', class_ = ['title', 'is-5'])\n",
    "# print(type(jobtitles))\n",
    "# jobtitles"
   ]
  },
  {
   "cell_type": "code",
   "execution_count": 323,
   "id": "a7bc543a-d45d-4856-9857-52d069faedd7",
   "metadata": {},
   "outputs": [],
   "source": [
    "### This returns a list of cleaned title strings but you lose access to HTML Tag objects\n",
    "\n",
    "# titles = [job.text.strip() for job in soup.find_all(\"h2\", class_=\"title is-5\")]\n",
    "# type(titles)\n",
    "# titles"
   ]
  },
  {
   "cell_type": "markdown",
   "id": "f24657be-cb6d-4205-aad8-5cca837bfe27",
   "metadata": {},
   "source": [
    "#### Finally, extract the companies, locations, and posting dates for each job. For example, the first job has a company of \"Payne, Roberts and Davis\", a location of \"Stewartbury, AA\", and a posting date of \"2021-04-08\". Ensure that the text that you extract is clean, meaning no extra spaces or other characters at the beginning or end."
   ]
  },
  {
   "cell_type": "code",
   "execution_count": 310,
   "id": "2123e6b9-6918-44e8-9496-0b4f39443120",
   "metadata": {},
   "outputs": [],
   "source": [
    "# h3 class_ = ['subtitle'] ; p class_ = ['location'] ; p class_ = ['is-small']"
   ]
  },
  {
   "cell_type": "code",
   "execution_count": 330,
   "id": "5ba3d6bb-7f85-4179-a5a9-31011ba0466b",
   "metadata": {},
   "outputs": [],
   "source": [
    "import pandas as pd\n",
    "\n",
    "jobcards = soup.findAll('div', class_='card-content')\n",
    "\n",
    "data = []\n",
    "\n",
    "for card in jobcards:\n",
    "    title = card.find('h2', class_ = ['title']).text\n",
    "    company = card.find('h3', class_ = ['subtitle']).text\n",
    "    location = card.find('p', class_ = ['location']).text\n",
    "    posting_date = card.find('p', class_ = ['is-small']).text\n",
    "\n",
    "    jobinfo = {\n",
    "        'Title': title.strip(), \n",
    "        'Company': company.strip(),\n",
    "        'Location': location.strip(),\n",
    "        'Date Posted': posting_date.strip()\n",
    "    }\n",
    "\n",
    "    data.append(jobinfo)"
   ]
  },
  {
   "cell_type": "code",
   "execution_count": 331,
   "id": "22de41d3-e9f4-4826-a468-c4e72dab10c6",
   "metadata": {},
   "outputs": [],
   "source": [
    "jobpostinfo = pd.DataFrame(data)"
   ]
  },
  {
   "cell_type": "code",
   "execution_count": 332,
   "id": "7862d613-0704-4889-bff3-4d57b78a3374",
   "metadata": {},
   "outputs": [
    {
     "data": {
      "text/html": [
       "<div>\n",
       "<style scoped>\n",
       "    .dataframe tbody tr th:only-of-type {\n",
       "        vertical-align: middle;\n",
       "    }\n",
       "\n",
       "    .dataframe tbody tr th {\n",
       "        vertical-align: top;\n",
       "    }\n",
       "\n",
       "    .dataframe thead th {\n",
       "        text-align: right;\n",
       "    }\n",
       "</style>\n",
       "<table border=\"1\" class=\"dataframe\">\n",
       "  <thead>\n",
       "    <tr style=\"text-align: right;\">\n",
       "      <th></th>\n",
       "      <th>Title</th>\n",
       "      <th>Company</th>\n",
       "      <th>Location</th>\n",
       "      <th>Date Posted</th>\n",
       "    </tr>\n",
       "  </thead>\n",
       "  <tbody>\n",
       "    <tr>\n",
       "      <th>0</th>\n",
       "      <td>Senior Python Developer</td>\n",
       "      <td>Payne, Roberts and Davis</td>\n",
       "      <td>Stewartbury, AA</td>\n",
       "      <td>2021-04-08</td>\n",
       "    </tr>\n",
       "    <tr>\n",
       "      <th>1</th>\n",
       "      <td>Energy engineer</td>\n",
       "      <td>Vasquez-Davidson</td>\n",
       "      <td>Christopherville, AA</td>\n",
       "      <td>2021-04-08</td>\n",
       "    </tr>\n",
       "    <tr>\n",
       "      <th>2</th>\n",
       "      <td>Legal executive</td>\n",
       "      <td>Jackson, Chambers and Levy</td>\n",
       "      <td>Port Ericaburgh, AA</td>\n",
       "      <td>2021-04-08</td>\n",
       "    </tr>\n",
       "    <tr>\n",
       "      <th>3</th>\n",
       "      <td>Fitness centre manager</td>\n",
       "      <td>Savage-Bradley</td>\n",
       "      <td>East Seanview, AP</td>\n",
       "      <td>2021-04-08</td>\n",
       "    </tr>\n",
       "    <tr>\n",
       "      <th>4</th>\n",
       "      <td>Product manager</td>\n",
       "      <td>Ramirez Inc</td>\n",
       "      <td>North Jamieview, AP</td>\n",
       "      <td>2021-04-08</td>\n",
       "    </tr>\n",
       "  </tbody>\n",
       "</table>\n",
       "</div>"
      ],
      "text/plain": [
       "                     Title                     Company              Location  \\\n",
       "0  Senior Python Developer    Payne, Roberts and Davis       Stewartbury, AA   \n",
       "1          Energy engineer            Vasquez-Davidson  Christopherville, AA   \n",
       "2          Legal executive  Jackson, Chambers and Levy   Port Ericaburgh, AA   \n",
       "3   Fitness centre manager              Savage-Bradley     East Seanview, AP   \n",
       "4          Product manager                 Ramirez Inc   North Jamieview, AP   \n",
       "\n",
       "  Date Posted  \n",
       "0  2021-04-08  \n",
       "1  2021-04-08  \n",
       "2  2021-04-08  \n",
       "3  2021-04-08  \n",
       "4  2021-04-08  "
      ]
     },
     "execution_count": 332,
     "metadata": {},
     "output_type": "execute_result"
    }
   ],
   "source": [
    "jobpostinfo.head()"
   ]
  },
  {
   "cell_type": "markdown",
   "id": "22f62a9f-dedf-4c3d-8941-7c92ec252fbf",
   "metadata": {},
   "source": [
    "## 2. Next, add a column that contains the url for the \"Apply\" button. Try this in two ways."
   ]
  },
  {
   "cell_type": "markdown",
   "id": "4dc4b34e-9d9f-44b7-9151-6517ac775e5d",
   "metadata": {},
   "source": [
    "####  First, use the BeautifulSoup find_all method to extract the urls."
   ]
  },
  {
   "cell_type": "code",
   "execution_count": 171,
   "id": "dd7465c1-caa8-4669-80ee-2b5fd5b4f84a",
   "metadata": {},
   "outputs": [],
   "source": [
    "# Note: w/o string = 'Apply\" (see target = ...) output will include URLs for 'Learn' button.\n",
    "\n",
    "# apply = soup.findAll('a')\n",
    "# print(type(apply))\n",
    "# apply"
   ]
  },
  {
   "cell_type": "code",
   "execution_count": 308,
   "id": "0e6ebaf3-b132-4a01-a70c-37f7aa9004f7",
   "metadata": {},
   "outputs": [],
   "source": [
    "# apply = soup.find_all('a')\n",
    "# apply"
   ]
  },
  {
   "cell_type": "code",
   "execution_count": 314,
   "id": "65cbc061-ad76-4d4c-8111-0e45a90f7c2a",
   "metadata": {},
   "outputs": [],
   "source": [
    "jobcards = soup.findAll('div', class_='card-content')\n",
    "\n",
    "data = []\n",
    "\n",
    "for card in jobcards:\n",
    "    title = card.find('h2', class_=['title', 'is-5'])\n",
    "    company = card.find('h3', class_='subtitle')\n",
    "    location = card.find('p', class_='location')\n",
    "    date = card.find('p', class_='is-small')\n",
    "    \n",
    "    apply = card.findAll('a')[1] \n",
    "    applyurl = apply.get('href', 'N/A')\n",
    "\n",
    "    jobpost = {\n",
    "        'Title': title.text.strip(),\n",
    "        'Company': company.text.strip(),\n",
    "        'Location': location.text.strip(),\n",
    "        'Date Posted': date.text.strip(),\n",
    "        'Apply URL': applyurl.strip()\n",
    "    }\n",
    "\n",
    "    data.append(jobpost)\n",
    "\n",
    "# Check Check\n",
    "\n",
    "# print(title)\n",
    "# print(company)\n",
    "# print(location)\n",
    "# print(date)\n",
    "# print(apply)\n",
    "# print(applyurl)"
   ]
  },
  {
   "cell_type": "code",
   "execution_count": 334,
   "id": "c3c6a1a9-2564-4352-898c-13146f1c7e12",
   "metadata": {},
   "outputs": [
    {
     "data": {
      "text/plain": [
       "<a class=\"card-footer-item\" href=\"https://realpython.github.io/fake-jobs/jobs/ship-broker-99.html\" target=\"_blank\">Applyhttps://realpython.github.io/fake-jobs/jobs/ship-broker-99.html</a>"
      ]
     },
     "execution_count": 334,
     "metadata": {},
     "output_type": "execute_result"
    }
   ],
   "source": [
    "apply"
   ]
  },
  {
   "cell_type": "code",
   "execution_count": 315,
   "id": "8cfa6fa1-7daf-4ae4-bc32-bfb5bd7b426f",
   "metadata": {},
   "outputs": [
    {
     "data": {
      "text/html": [
       "<div>\n",
       "<style scoped>\n",
       "    .dataframe tbody tr th:only-of-type {\n",
       "        vertical-align: middle;\n",
       "    }\n",
       "\n",
       "    .dataframe tbody tr th {\n",
       "        vertical-align: top;\n",
       "    }\n",
       "\n",
       "    .dataframe thead th {\n",
       "        text-align: right;\n",
       "    }\n",
       "</style>\n",
       "<table border=\"1\" class=\"dataframe\">\n",
       "  <thead>\n",
       "    <tr style=\"text-align: right;\">\n",
       "      <th></th>\n",
       "      <th>Title</th>\n",
       "      <th>Company</th>\n",
       "      <th>Location</th>\n",
       "      <th>Date Posted</th>\n",
       "      <th>Apply URL</th>\n",
       "    </tr>\n",
       "  </thead>\n",
       "  <tbody>\n",
       "    <tr>\n",
       "      <th>0</th>\n",
       "      <td>Senior Python Developer</td>\n",
       "      <td>Payne, Roberts and Davis</td>\n",
       "      <td>Stewartbury, AA</td>\n",
       "      <td>2021-04-08</td>\n",
       "      <td>https://realpython.github.io/fake-jobs/jobs/se...</td>\n",
       "    </tr>\n",
       "    <tr>\n",
       "      <th>1</th>\n",
       "      <td>Energy engineer</td>\n",
       "      <td>Vasquez-Davidson</td>\n",
       "      <td>Christopherville, AA</td>\n",
       "      <td>2021-04-08</td>\n",
       "      <td>https://realpython.github.io/fake-jobs/jobs/en...</td>\n",
       "    </tr>\n",
       "    <tr>\n",
       "      <th>2</th>\n",
       "      <td>Legal executive</td>\n",
       "      <td>Jackson, Chambers and Levy</td>\n",
       "      <td>Port Ericaburgh, AA</td>\n",
       "      <td>2021-04-08</td>\n",
       "      <td>https://realpython.github.io/fake-jobs/jobs/le...</td>\n",
       "    </tr>\n",
       "    <tr>\n",
       "      <th>3</th>\n",
       "      <td>Fitness centre manager</td>\n",
       "      <td>Savage-Bradley</td>\n",
       "      <td>East Seanview, AP</td>\n",
       "      <td>2021-04-08</td>\n",
       "      <td>https://realpython.github.io/fake-jobs/jobs/fi...</td>\n",
       "    </tr>\n",
       "    <tr>\n",
       "      <th>4</th>\n",
       "      <td>Product manager</td>\n",
       "      <td>Ramirez Inc</td>\n",
       "      <td>North Jamieview, AP</td>\n",
       "      <td>2021-04-08</td>\n",
       "      <td>https://realpython.github.io/fake-jobs/jobs/pr...</td>\n",
       "    </tr>\n",
       "  </tbody>\n",
       "</table>\n",
       "</div>"
      ],
      "text/plain": [
       "                     Title                     Company              Location  \\\n",
       "0  Senior Python Developer    Payne, Roberts and Davis       Stewartbury, AA   \n",
       "1          Energy engineer            Vasquez-Davidson  Christopherville, AA   \n",
       "2          Legal executive  Jackson, Chambers and Levy   Port Ericaburgh, AA   \n",
       "3   Fitness centre manager              Savage-Bradley     East Seanview, AP   \n",
       "4          Product manager                 Ramirez Inc   North Jamieview, AP   \n",
       "\n",
       "  Date Posted                                          Apply URL  \n",
       "0  2021-04-08  https://realpython.github.io/fake-jobs/jobs/se...  \n",
       "1  2021-04-08  https://realpython.github.io/fake-jobs/jobs/en...  \n",
       "2  2021-04-08  https://realpython.github.io/fake-jobs/jobs/le...  \n",
       "3  2021-04-08  https://realpython.github.io/fake-jobs/jobs/fi...  \n",
       "4  2021-04-08  https://realpython.github.io/fake-jobs/jobs/pr...  "
      ]
     },
     "execution_count": 315,
     "metadata": {},
     "output_type": "execute_result"
    }
   ],
   "source": [
    "jobpost = pd.DataFrame(data)\n",
    "jobpost.head()"
   ]
  },
  {
   "cell_type": "markdown",
   "id": "6db7e2a7-241e-41e8-8482-4df596ca28e7",
   "metadata": {},
   "source": [
    "#### Next, get those same urls in a different way. Examine the urls and see if you can spot the pattern of how they are constructed. Then, build the url using the elements you have already extracted. Ensure that the urls that you created match those that you extracted using BeautifulSoup. Warning: You will need to do some string cleaning and prep in constructing the urls this way. For example, look carefully at the urls for the \"Software Engineer (Python)\" job and the \"Scientist, research (maths)\" job."
   ]
  },
  {
   "cell_type": "code",
   "execution_count": 329,
   "id": "41837648-a6fb-48f7-b4dd-435bae0fad1e",
   "metadata": {},
   "outputs": [],
   "source": []
  },
  {
   "cell_type": "markdown",
   "id": "55d0f877-e71a-4489-afe8-3ef1ca5a3c6b",
   "metadata": {},
   "source": [
    "## 3. Finally, we want to get the job description text for each job."
   ]
  },
  {
   "cell_type": "markdown",
   "id": "397e31e3-caf2-4442-9417-7018b55837d8",
   "metadata": {},
   "source": [
    "#### Start by looking at the page for the first job, https://realpython.github.io/fake-jobs/jobs/senior-python-developer-0.html. Using BeautifulSoup, extract the job description paragraph."
   ]
  },
  {
   "cell_type": "code",
   "execution_count": 237,
   "id": "3ccb7504-85c5-4443-b2b8-948018e2cfad",
   "metadata": {},
   "outputs": [],
   "source": [
    "URL2 = 'https://realpython.github.io/fake-jobs/jobs/senior-python-developer-0.html'\n",
    "response2 = requests.get(URL2)"
   ]
  },
  {
   "cell_type": "code",
   "execution_count": 238,
   "id": "df61d385-e68a-4951-857b-4a7d4798a8db",
   "metadata": {},
   "outputs": [
    {
     "data": {
      "text/plain": [
       "200"
      ]
     },
     "execution_count": 238,
     "metadata": {},
     "output_type": "execute_result"
    }
   ],
   "source": [
    "response2.status_code"
   ]
  },
  {
   "cell_type": "code",
   "execution_count": 235,
   "id": "02fa637b-b93b-448b-9e91-307eb9a9260f",
   "metadata": {},
   "outputs": [
    {
     "data": {
      "text/plain": [
       "<Response [200]>"
      ]
     },
     "execution_count": 235,
     "metadata": {},
     "output_type": "execute_result"
    }
   ],
   "source": [
    "requests.get('https://realpython.github.io/fake-jobs/jobs/senior-python-developer-0.html')"
   ]
  },
  {
   "cell_type": "code",
   "execution_count": 262,
   "id": "f5cf6432-fd04-4a36-ad73-bdb95c76d61a",
   "metadata": {},
   "outputs": [],
   "source": [
    "soup2 = BS(response.text)"
   ]
  },
  {
   "cell_type": "code",
   "execution_count": 263,
   "id": "62822386-a932-4cde-8c93-ab59d0f6c77e",
   "metadata": {},
   "outputs": [
    {
     "data": {
      "text/plain": [
       "'Professional asset web application environmentally friendly detail-oriented asset. Coordinate educational dashboard agile employ growth opportunity. Company programs CSS explore role. Html educational grit web application. Oversea SCRUM talented support. Web Application fast-growing communities inclusive programs job CSS. Css discussions growth opportunity explore open-minded oversee. Css Python environmentally friendly collaborate inclusive role. Django no experience oversee dashboard environmentally friendly willing to learn programs. Programs open-minded programs asset.'"
      ]
     },
     "execution_count": 263,
     "metadata": {},
     "output_type": "execute_result"
    }
   ],
   "source": [
    "descards = soup2.find('div', class_ = 'content')\n",
    "descards = descards.findAll('p') if descards else []\n",
    "descards = [p for p in descards if not p.has_attr('id')]\n",
    "descards = descards[0].text.strip()\n",
    "descards"
   ]
  },
  {
   "cell_type": "markdown",
   "id": "b639b911-5841-45cf-9217-b07339d71dbc",
   "metadata": {},
   "source": [
    "#### We want to be able to do this for all pages. Write a function which takes as input a url and returns the description text on that page."
   ]
  },
  {
   "cell_type": "code",
   "execution_count": 313,
   "id": "2932db66-da8d-4b91-bda4-4f7c16b2d091",
   "metadata": {},
   "outputs": [
    {
     "data": {
      "text/html": [
       "<div>\n",
       "<style scoped>\n",
       "    .dataframe tbody tr th:only-of-type {\n",
       "        vertical-align: middle;\n",
       "    }\n",
       "\n",
       "    .dataframe tbody tr th {\n",
       "        vertical-align: top;\n",
       "    }\n",
       "\n",
       "    .dataframe thead th {\n",
       "        text-align: right;\n",
       "    }\n",
       "</style>\n",
       "<table border=\"1\" class=\"dataframe\">\n",
       "  <thead>\n",
       "    <tr style=\"text-align: right;\">\n",
       "      <th></th>\n",
       "      <th>Title</th>\n",
       "      <th>Company</th>\n",
       "      <th>Location</th>\n",
       "      <th>Date Posted</th>\n",
       "      <th>Job Description</th>\n",
       "      <th>Apply URL</th>\n",
       "    </tr>\n",
       "  </thead>\n",
       "  <tbody>\n",
       "    <tr>\n",
       "      <th>0</th>\n",
       "      <td>Senior Python Developer</td>\n",
       "      <td>Payne, Roberts and Davis</td>\n",
       "      <td>Stewartbury, AA</td>\n",
       "      <td>2021-04-08</td>\n",
       "      <td>Professional asset web application environment...</td>\n",
       "      <td>https://realpython.github.io/fake-jobs/jobs/se...</td>\n",
       "    </tr>\n",
       "    <tr>\n",
       "      <th>1</th>\n",
       "      <td>Energy engineer</td>\n",
       "      <td>Vasquez-Davidson</td>\n",
       "      <td>Christopherville, AA</td>\n",
       "      <td>2021-04-08</td>\n",
       "      <td>Party prevent live. Quickly candidate change a...</td>\n",
       "      <td>https://realpython.github.io/fake-jobs/jobs/en...</td>\n",
       "    </tr>\n",
       "    <tr>\n",
       "      <th>2</th>\n",
       "      <td>Legal executive</td>\n",
       "      <td>Jackson, Chambers and Levy</td>\n",
       "      <td>Port Ericaburgh, AA</td>\n",
       "      <td>2021-04-08</td>\n",
       "      <td>Administration even relate head color. Staff b...</td>\n",
       "      <td>https://realpython.github.io/fake-jobs/jobs/le...</td>\n",
       "    </tr>\n",
       "    <tr>\n",
       "      <th>3</th>\n",
       "      <td>Fitness centre manager</td>\n",
       "      <td>Savage-Bradley</td>\n",
       "      <td>East Seanview, AP</td>\n",
       "      <td>2021-04-08</td>\n",
       "      <td>Tv program actually race tonight themselves tr...</td>\n",
       "      <td>https://realpython.github.io/fake-jobs/jobs/fi...</td>\n",
       "    </tr>\n",
       "    <tr>\n",
       "      <th>4</th>\n",
       "      <td>Product manager</td>\n",
       "      <td>Ramirez Inc</td>\n",
       "      <td>North Jamieview, AP</td>\n",
       "      <td>2021-04-08</td>\n",
       "      <td>Traditional page a although for study anyone. ...</td>\n",
       "      <td>https://realpython.github.io/fake-jobs/jobs/pr...</td>\n",
       "    </tr>\n",
       "    <tr>\n",
       "      <th>...</th>\n",
       "      <td>...</td>\n",
       "      <td>...</td>\n",
       "      <td>...</td>\n",
       "      <td>...</td>\n",
       "      <td>...</td>\n",
       "      <td>...</td>\n",
       "    </tr>\n",
       "    <tr>\n",
       "      <th>95</th>\n",
       "      <td>Museum/gallery exhibitions officer</td>\n",
       "      <td>Nguyen, Yoder and Petty</td>\n",
       "      <td>Lake Abigail, AE</td>\n",
       "      <td>2021-04-08</td>\n",
       "      <td>Paper age physical current note. There reality...</td>\n",
       "      <td>https://realpython.github.io/fake-jobs/jobs/mu...</td>\n",
       "    </tr>\n",
       "    <tr>\n",
       "      <th>96</th>\n",
       "      <td>Radiographer, diagnostic</td>\n",
       "      <td>Holder LLC</td>\n",
       "      <td>Jacobshire, AP</td>\n",
       "      <td>2021-04-08</td>\n",
       "      <td>Able such right culture. Wrong pick structure ...</td>\n",
       "      <td>https://realpython.github.io/fake-jobs/jobs/ra...</td>\n",
       "    </tr>\n",
       "    <tr>\n",
       "      <th>97</th>\n",
       "      <td>Database administrator</td>\n",
       "      <td>Yates-Ferguson</td>\n",
       "      <td>Port Susan, AE</td>\n",
       "      <td>2021-04-08</td>\n",
       "      <td>Create day party decade high clear. Past trade...</td>\n",
       "      <td>https://realpython.github.io/fake-jobs/jobs/da...</td>\n",
       "    </tr>\n",
       "    <tr>\n",
       "      <th>98</th>\n",
       "      <td>Furniture designer</td>\n",
       "      <td>Ortega-Lawrence</td>\n",
       "      <td>North Tiffany, AA</td>\n",
       "      <td>2021-04-08</td>\n",
       "      <td>Pressure under rock next week. Recognize so re...</td>\n",
       "      <td>https://realpython.github.io/fake-jobs/jobs/fu...</td>\n",
       "    </tr>\n",
       "    <tr>\n",
       "      <th>99</th>\n",
       "      <td>Ship broker</td>\n",
       "      <td>Fuentes, Walls and Castro</td>\n",
       "      <td>Michelleville, AP</td>\n",
       "      <td>2021-04-08</td>\n",
       "      <td>Management common popular project only. Must s...</td>\n",
       "      <td>https://realpython.github.io/fake-jobs/jobs/sh...</td>\n",
       "    </tr>\n",
       "  </tbody>\n",
       "</table>\n",
       "<p>100 rows × 6 columns</p>\n",
       "</div>"
      ],
      "text/plain": [
       "                                 Title                     Company  \\\n",
       "0              Senior Python Developer    Payne, Roberts and Davis   \n",
       "1                      Energy engineer            Vasquez-Davidson   \n",
       "2                      Legal executive  Jackson, Chambers and Levy   \n",
       "3               Fitness centre manager              Savage-Bradley   \n",
       "4                      Product manager                 Ramirez Inc   \n",
       "..                                 ...                         ...   \n",
       "95  Museum/gallery exhibitions officer     Nguyen, Yoder and Petty   \n",
       "96            Radiographer, diagnostic                  Holder LLC   \n",
       "97              Database administrator              Yates-Ferguson   \n",
       "98                  Furniture designer             Ortega-Lawrence   \n",
       "99                         Ship broker   Fuentes, Walls and Castro   \n",
       "\n",
       "                Location Date Posted  \\\n",
       "0        Stewartbury, AA  2021-04-08   \n",
       "1   Christopherville, AA  2021-04-08   \n",
       "2    Port Ericaburgh, AA  2021-04-08   \n",
       "3      East Seanview, AP  2021-04-08   \n",
       "4    North Jamieview, AP  2021-04-08   \n",
       "..                   ...         ...   \n",
       "95      Lake Abigail, AE  2021-04-08   \n",
       "96        Jacobshire, AP  2021-04-08   \n",
       "97        Port Susan, AE  2021-04-08   \n",
       "98     North Tiffany, AA  2021-04-08   \n",
       "99     Michelleville, AP  2021-04-08   \n",
       "\n",
       "                                      Job Description  \\\n",
       "0   Professional asset web application environment...   \n",
       "1   Party prevent live. Quickly candidate change a...   \n",
       "2   Administration even relate head color. Staff b...   \n",
       "3   Tv program actually race tonight themselves tr...   \n",
       "4   Traditional page a although for study anyone. ...   \n",
       "..                                                ...   \n",
       "95  Paper age physical current note. There reality...   \n",
       "96  Able such right culture. Wrong pick structure ...   \n",
       "97  Create day party decade high clear. Past trade...   \n",
       "98  Pressure under rock next week. Recognize so re...   \n",
       "99  Management common popular project only. Must s...   \n",
       "\n",
       "                                            Apply URL  \n",
       "0   https://realpython.github.io/fake-jobs/jobs/se...  \n",
       "1   https://realpython.github.io/fake-jobs/jobs/en...  \n",
       "2   https://realpython.github.io/fake-jobs/jobs/le...  \n",
       "3   https://realpython.github.io/fake-jobs/jobs/fi...  \n",
       "4   https://realpython.github.io/fake-jobs/jobs/pr...  \n",
       "..                                                ...  \n",
       "95  https://realpython.github.io/fake-jobs/jobs/mu...  \n",
       "96  https://realpython.github.io/fake-jobs/jobs/ra...  \n",
       "97  https://realpython.github.io/fake-jobs/jobs/da...  \n",
       "98  https://realpython.github.io/fake-jobs/jobs/fu...  \n",
       "99  https://realpython.github.io/fake-jobs/jobs/sh...  \n",
       "\n",
       "[100 rows x 6 columns]"
      ]
     },
     "execution_count": 313,
     "metadata": {},
     "output_type": "execute_result"
    }
   ],
   "source": [
    "jobcards = soup.findAll('div', class_='card-content')\n",
    "\n",
    "data = []\n",
    "\n",
    "for card in jobcards:\n",
    "    title = card.find('h2', class_=['title', 'is-5'])\n",
    "    company = card.find('h3', class_='subtitle')\n",
    "    location = card.find('p', class_='location')\n",
    "    date = card.find('p', class_='is-small')\n",
    "\n",
    "# Adding Apply\n",
    "    apply = card.findAll('a')[1] \n",
    "    applyurl = apply.get('href', 'N/A')\n",
    "\n",
    "# Without this, only the description for the first post is returned\n",
    "    response = requests.get(applyurl)\n",
    "    soup2 = BS(response.content)\n",
    "\n",
    "#Adding Job Description\n",
    "\n",
    "    jobdescription = soup2.find('div', class_ = 'content')\n",
    "    jobdescription = jobdescription.findAll('p') if jobdescription else []\n",
    "    jobdescription = [p for p in jobdescription if not p.has_attr('id')]\n",
    "    jobdescription = jobdescription[0].text.strip()\n",
    "    \n",
    "\n",
    "    jobpostinfo = {\n",
    "        'Title': title.text.strip(),\n",
    "        'Company': company.text.strip(),\n",
    "        'Location': location.text.strip(),\n",
    "        'Date Posted': date.text.strip(),\n",
    "        'Job Description': jobdescription,\n",
    "        'Apply URL': applyurl.strip()\n",
    "    }\n",
    "\n",
    "    data.append(jobpostinfo)\n",
    "\n",
    "jobpostinfo = pd.DataFrame(data)\n",
    "jobpostinfo\n",
    "\n",
    "\n",
    "### Wondering if this code can be condensed????"
   ]
  },
  {
   "cell_type": "code",
   "execution_count": 306,
   "id": "0d49be2e-754d-4414-8e72-11e2bbd083fb",
   "metadata": {},
   "outputs": [],
   "source": [
    "# jobpostinfo.to_csv('results/jobpostinfo.csv', index=False)"
   ]
  },
  {
   "cell_type": "code",
   "execution_count": 307,
   "id": "29cb1311-02a2-4d93-b30b-efc919b4ca82",
   "metadata": {},
   "outputs": [],
   "source": [
    "# jobpostinfo['Apply URL'] = jobpostinfo['Apply URL'].apply(\n",
    "#     lambda url: f'<a href=\"{url}\" target=\"_blank\">Apply</a>' if url != 'N/A' else 'N/A'\n",
    "# )\n",
    "\n",
    "# jobpostinfo['Apply URL'] = jobpostinfo['Apply URL'].apply(\n",
    "#     lambda url: url if url.startswith('<a href=') or url == 'N/A' else f'<a href=\"{url}\" target=\"_blank\">Apply</a>'\n",
    "# )\n",
    "\n",
    "# jobpostinfo.to_html('results/jobpostinfo.html', escape=False, index=False)\n"
   ]
  },
  {
   "cell_type": "markdown",
   "id": "77dd9db4-3cae-40cd-b7d6-1c3895f78688",
   "metadata": {},
   "source": [
    "#### Putting the pipeline together into one cell\n",
    "> Would like to figure out how to remove any redundancy and make this more streamlined"
   ]
  },
  {
   "cell_type": "code",
   "execution_count": 356,
   "id": "ec3b863c-2111-4aa1-9e2c-7668b71c5278",
   "metadata": {},
   "outputs": [
    {
     "data": {
      "text/html": [
       "<div>\n",
       "<style scoped>\n",
       "    .dataframe tbody tr th:only-of-type {\n",
       "        vertical-align: middle;\n",
       "    }\n",
       "\n",
       "    .dataframe tbody tr th {\n",
       "        vertical-align: top;\n",
       "    }\n",
       "\n",
       "    .dataframe thead th {\n",
       "        text-align: right;\n",
       "    }\n",
       "</style>\n",
       "<table border=\"1\" class=\"dataframe\">\n",
       "  <thead>\n",
       "    <tr style=\"text-align: right;\">\n",
       "      <th></th>\n",
       "      <th>Title</th>\n",
       "      <th>Company</th>\n",
       "      <th>Location</th>\n",
       "      <th>Date Posted</th>\n",
       "      <th>Job Description</th>\n",
       "      <th>Apply URL</th>\n",
       "    </tr>\n",
       "  </thead>\n",
       "  <tbody>\n",
       "    <tr>\n",
       "      <th>0</th>\n",
       "      <td>Senior Python Developer</td>\n",
       "      <td>Payne, Roberts and Davis</td>\n",
       "      <td>Stewartbury, AA</td>\n",
       "      <td>2021-04-08</td>\n",
       "      <td>Professional asset web application environment...</td>\n",
       "      <td>https://realpython.github.io/fake-jobs/jobs/se...</td>\n",
       "    </tr>\n",
       "    <tr>\n",
       "      <th>1</th>\n",
       "      <td>Energy engineer</td>\n",
       "      <td>Vasquez-Davidson</td>\n",
       "      <td>Christopherville, AA</td>\n",
       "      <td>2021-04-08</td>\n",
       "      <td>Party prevent live. Quickly candidate change a...</td>\n",
       "      <td>https://realpython.github.io/fake-jobs/jobs/en...</td>\n",
       "    </tr>\n",
       "    <tr>\n",
       "      <th>2</th>\n",
       "      <td>Legal executive</td>\n",
       "      <td>Jackson, Chambers and Levy</td>\n",
       "      <td>Port Ericaburgh, AA</td>\n",
       "      <td>2021-04-08</td>\n",
       "      <td>Administration even relate head color. Staff b...</td>\n",
       "      <td>https://realpython.github.io/fake-jobs/jobs/le...</td>\n",
       "    </tr>\n",
       "    <tr>\n",
       "      <th>3</th>\n",
       "      <td>Fitness centre manager</td>\n",
       "      <td>Savage-Bradley</td>\n",
       "      <td>East Seanview, AP</td>\n",
       "      <td>2021-04-08</td>\n",
       "      <td>Tv program actually race tonight themselves tr...</td>\n",
       "      <td>https://realpython.github.io/fake-jobs/jobs/fi...</td>\n",
       "    </tr>\n",
       "    <tr>\n",
       "      <th>4</th>\n",
       "      <td>Product manager</td>\n",
       "      <td>Ramirez Inc</td>\n",
       "      <td>North Jamieview, AP</td>\n",
       "      <td>2021-04-08</td>\n",
       "      <td>Traditional page a although for study anyone. ...</td>\n",
       "      <td>https://realpython.github.io/fake-jobs/jobs/pr...</td>\n",
       "    </tr>\n",
       "    <tr>\n",
       "      <th>...</th>\n",
       "      <td>...</td>\n",
       "      <td>...</td>\n",
       "      <td>...</td>\n",
       "      <td>...</td>\n",
       "      <td>...</td>\n",
       "      <td>...</td>\n",
       "    </tr>\n",
       "    <tr>\n",
       "      <th>95</th>\n",
       "      <td>Museum/gallery exhibitions officer</td>\n",
       "      <td>Nguyen, Yoder and Petty</td>\n",
       "      <td>Lake Abigail, AE</td>\n",
       "      <td>2021-04-08</td>\n",
       "      <td>Paper age physical current note. There reality...</td>\n",
       "      <td>https://realpython.github.io/fake-jobs/jobs/mu...</td>\n",
       "    </tr>\n",
       "    <tr>\n",
       "      <th>96</th>\n",
       "      <td>Radiographer, diagnostic</td>\n",
       "      <td>Holder LLC</td>\n",
       "      <td>Jacobshire, AP</td>\n",
       "      <td>2021-04-08</td>\n",
       "      <td>Able such right culture. Wrong pick structure ...</td>\n",
       "      <td>https://realpython.github.io/fake-jobs/jobs/ra...</td>\n",
       "    </tr>\n",
       "    <tr>\n",
       "      <th>97</th>\n",
       "      <td>Database administrator</td>\n",
       "      <td>Yates-Ferguson</td>\n",
       "      <td>Port Susan, AE</td>\n",
       "      <td>2021-04-08</td>\n",
       "      <td>Create day party decade high clear. Past trade...</td>\n",
       "      <td>https://realpython.github.io/fake-jobs/jobs/da...</td>\n",
       "    </tr>\n",
       "    <tr>\n",
       "      <th>98</th>\n",
       "      <td>Furniture designer</td>\n",
       "      <td>Ortega-Lawrence</td>\n",
       "      <td>North Tiffany, AA</td>\n",
       "      <td>2021-04-08</td>\n",
       "      <td>Pressure under rock next week. Recognize so re...</td>\n",
       "      <td>https://realpython.github.io/fake-jobs/jobs/fu...</td>\n",
       "    </tr>\n",
       "    <tr>\n",
       "      <th>99</th>\n",
       "      <td>Ship broker</td>\n",
       "      <td>Fuentes, Walls and Castro</td>\n",
       "      <td>Michelleville, AP</td>\n",
       "      <td>2021-04-08</td>\n",
       "      <td>Management common popular project only. Must s...</td>\n",
       "      <td>https://realpython.github.io/fake-jobs/jobs/sh...</td>\n",
       "    </tr>\n",
       "  </tbody>\n",
       "</table>\n",
       "<p>100 rows × 6 columns</p>\n",
       "</div>"
      ],
      "text/plain": [
       "                                 Title                     Company  \\\n",
       "0              Senior Python Developer    Payne, Roberts and Davis   \n",
       "1                      Energy engineer            Vasquez-Davidson   \n",
       "2                      Legal executive  Jackson, Chambers and Levy   \n",
       "3               Fitness centre manager              Savage-Bradley   \n",
       "4                      Product manager                 Ramirez Inc   \n",
       "..                                 ...                         ...   \n",
       "95  Museum/gallery exhibitions officer     Nguyen, Yoder and Petty   \n",
       "96            Radiographer, diagnostic                  Holder LLC   \n",
       "97              Database administrator              Yates-Ferguson   \n",
       "98                  Furniture designer             Ortega-Lawrence   \n",
       "99                         Ship broker   Fuentes, Walls and Castro   \n",
       "\n",
       "                Location Date Posted  \\\n",
       "0        Stewartbury, AA  2021-04-08   \n",
       "1   Christopherville, AA  2021-04-08   \n",
       "2    Port Ericaburgh, AA  2021-04-08   \n",
       "3      East Seanview, AP  2021-04-08   \n",
       "4    North Jamieview, AP  2021-04-08   \n",
       "..                   ...         ...   \n",
       "95      Lake Abigail, AE  2021-04-08   \n",
       "96        Jacobshire, AP  2021-04-08   \n",
       "97        Port Susan, AE  2021-04-08   \n",
       "98     North Tiffany, AA  2021-04-08   \n",
       "99     Michelleville, AP  2021-04-08   \n",
       "\n",
       "                                      Job Description  \\\n",
       "0   Professional asset web application environment...   \n",
       "1   Party prevent live. Quickly candidate change a...   \n",
       "2   Administration even relate head color. Staff b...   \n",
       "3   Tv program actually race tonight themselves tr...   \n",
       "4   Traditional page a although for study anyone. ...   \n",
       "..                                                ...   \n",
       "95  Paper age physical current note. There reality...   \n",
       "96  Able such right culture. Wrong pick structure ...   \n",
       "97  Create day party decade high clear. Past trade...   \n",
       "98  Pressure under rock next week. Recognize so re...   \n",
       "99  Management common popular project only. Must s...   \n",
       "\n",
       "                                            Apply URL  \n",
       "0   https://realpython.github.io/fake-jobs/jobs/se...  \n",
       "1   https://realpython.github.io/fake-jobs/jobs/en...  \n",
       "2   https://realpython.github.io/fake-jobs/jobs/le...  \n",
       "3   https://realpython.github.io/fake-jobs/jobs/fi...  \n",
       "4   https://realpython.github.io/fake-jobs/jobs/pr...  \n",
       "..                                                ...  \n",
       "95  https://realpython.github.io/fake-jobs/jobs/mu...  \n",
       "96  https://realpython.github.io/fake-jobs/jobs/ra...  \n",
       "97  https://realpython.github.io/fake-jobs/jobs/da...  \n",
       "98  https://realpython.github.io/fake-jobs/jobs/fu...  \n",
       "99  https://realpython.github.io/fake-jobs/jobs/sh...  \n",
       "\n",
       "[100 rows x 6 columns]"
      ]
     },
     "execution_count": 356,
     "metadata": {},
     "output_type": "execute_result"
    }
   ],
   "source": [
    "import requests\n",
    "from bs4 import BeautifulSoup as BS\n",
    "import pandas as pd\n",
    "\n",
    "URL = 'https://realpython.github.io/fake-jobs/'\n",
    "\n",
    "# # Not always needed\n",
    "# headers = {\n",
    "#     \"User-Agent\": \"MyPythonScript/1.0 (contact@example.com)\"\n",
    "# }\n",
    "\n",
    "response = requests.get(URL) # (URL, headers = headers) if headers needed\n",
    "soup = BS(response.text)\n",
    "\n",
    "URL2 = 'https://realpython.github.io/fake-jobs/jobs/senior-python-developer-0.html'\n",
    "response2 = requests.get(URL2)\n",
    "soup2 = BS(response.text)\n",
    "\n",
    "jobcards = soup.findAll('div', class_='card-content')\n",
    "\n",
    "data = []\n",
    "\n",
    "for card in jobcards:\n",
    "    title = card.find('h2', class_=['title', 'is-5'])\n",
    "    company = card.find('h3', class_='subtitle')\n",
    "    location = card.find('p', class_='location')\n",
    "    date = card.find('p', class_='is-small')\n",
    "\n",
    "# Adding Apply\n",
    "    apply = card.findAll('a')[1] \n",
    "    applyurl = apply.get('href', 'N/A')\n",
    "\n",
    "# Without this, only the description for the first post is returned\n",
    "    response = requests.get(applyurl)\n",
    "    soup2 = BS(response.content)\n",
    "\n",
    "#Adding Job Description\n",
    "\n",
    "    jobdescription = soup2.find('div', class_ = 'content')\n",
    "    jobdescription = jobdescription.findAll('p') if jobdescription else []\n",
    "    jobdescription = [p for p in jobdescription if not p.has_attr('id')]\n",
    "    jobdescription = jobdescription[0].text.strip()\n",
    "    \n",
    "\n",
    "    jobpostinfo = {\n",
    "        'Title': title.text.strip(),\n",
    "        'Company': company.text.strip(),\n",
    "        'Location': location.text.strip(),\n",
    "        'Date Posted': date.text.strip(),\n",
    "        'Job Description': jobdescription,\n",
    "        'Apply URL': applyurl.strip()\n",
    "    }\n",
    "\n",
    "    data.append(jobpostinfo)\n",
    "\n",
    "jobpostinfo = pd.DataFrame(data)\n",
    "jobpostinfo"
   ]
  },
  {
   "cell_type": "code",
   "execution_count": 363,
   "id": "c80bbd97-0ffa-42bf-9079-a9a4f04d60b8",
   "metadata": {},
   "outputs": [
    {
     "data": {
      "text/html": [
       "<div>\n",
       "<style scoped>\n",
       "    .dataframe tbody tr th:only-of-type {\n",
       "        vertical-align: middle;\n",
       "    }\n",
       "\n",
       "    .dataframe tbody tr th {\n",
       "        vertical-align: top;\n",
       "    }\n",
       "\n",
       "    .dataframe thead th {\n",
       "        text-align: right;\n",
       "    }\n",
       "</style>\n",
       "<table border=\"1\" class=\"dataframe\">\n",
       "  <thead>\n",
       "    <tr style=\"text-align: right;\">\n",
       "      <th></th>\n",
       "      <th>Title</th>\n",
       "      <th>Company</th>\n",
       "      <th>Location</th>\n",
       "      <th>Date Posted</th>\n",
       "      <th>Job Description</th>\n",
       "      <th>Apply URL</th>\n",
       "    </tr>\n",
       "  </thead>\n",
       "  <tbody>\n",
       "    <tr>\n",
       "      <th>0</th>\n",
       "      <td>SENIOR PYTHON DEVELOPER</td>\n",
       "      <td>PAYNE, ROBERTS AND DAVIS</td>\n",
       "      <td>STEWARTBURY, AA</td>\n",
       "      <td>2021-04-08</td>\n",
       "      <td>Professional asset web application environment...</td>\n",
       "      <td>https://realpython.github.io/fake-jobs/jobs/se...</td>\n",
       "    </tr>\n",
       "    <tr>\n",
       "      <th>1</th>\n",
       "      <td>ENERGY ENGINEER</td>\n",
       "      <td>VASQUEZ-DAVIDSON</td>\n",
       "      <td>CHRISTOPHERVILLE, AA</td>\n",
       "      <td>2021-04-08</td>\n",
       "      <td>Party prevent live. Quickly candidate change a...</td>\n",
       "      <td>https://realpython.github.io/fake-jobs/jobs/en...</td>\n",
       "    </tr>\n",
       "    <tr>\n",
       "      <th>2</th>\n",
       "      <td>LEGAL EXECUTIVE</td>\n",
       "      <td>JACKSON, CHAMBERS AND LEVY</td>\n",
       "      <td>PORT ERICABURGH, AA</td>\n",
       "      <td>2021-04-08</td>\n",
       "      <td>Administration even relate head color. Staff b...</td>\n",
       "      <td>https://realpython.github.io/fake-jobs/jobs/le...</td>\n",
       "    </tr>\n",
       "    <tr>\n",
       "      <th>3</th>\n",
       "      <td>FITNESS CENTRE MANAGER</td>\n",
       "      <td>SAVAGE-BRADLEY</td>\n",
       "      <td>EAST SEANVIEW, AP</td>\n",
       "      <td>2021-04-08</td>\n",
       "      <td>Tv program actually race tonight themselves tr...</td>\n",
       "      <td>https://realpython.github.io/fake-jobs/jobs/fi...</td>\n",
       "    </tr>\n",
       "    <tr>\n",
       "      <th>4</th>\n",
       "      <td>PRODUCT MANAGER</td>\n",
       "      <td>RAMIREZ INC</td>\n",
       "      <td>NORTH JAMIEVIEW, AP</td>\n",
       "      <td>2021-04-08</td>\n",
       "      <td>Traditional page a although for study anyone. ...</td>\n",
       "      <td>https://realpython.github.io/fake-jobs/jobs/pr...</td>\n",
       "    </tr>\n",
       "    <tr>\n",
       "      <th>...</th>\n",
       "      <td>...</td>\n",
       "      <td>...</td>\n",
       "      <td>...</td>\n",
       "      <td>...</td>\n",
       "      <td>...</td>\n",
       "      <td>...</td>\n",
       "    </tr>\n",
       "    <tr>\n",
       "      <th>95</th>\n",
       "      <td>MUSEUM/GALLERY EXHIBITIONS OFFICER</td>\n",
       "      <td>NGUYEN, YODER AND PETTY</td>\n",
       "      <td>LAKE ABIGAIL, AE</td>\n",
       "      <td>2021-04-08</td>\n",
       "      <td>Paper age physical current note. There reality...</td>\n",
       "      <td>https://realpython.github.io/fake-jobs/jobs/mu...</td>\n",
       "    </tr>\n",
       "    <tr>\n",
       "      <th>96</th>\n",
       "      <td>RADIOGRAPHER, DIAGNOSTIC</td>\n",
       "      <td>HOLDER LLC</td>\n",
       "      <td>JACOBSHIRE, AP</td>\n",
       "      <td>2021-04-08</td>\n",
       "      <td>Able such right culture. Wrong pick structure ...</td>\n",
       "      <td>https://realpython.github.io/fake-jobs/jobs/ra...</td>\n",
       "    </tr>\n",
       "    <tr>\n",
       "      <th>97</th>\n",
       "      <td>DATABASE ADMINISTRATOR</td>\n",
       "      <td>YATES-FERGUSON</td>\n",
       "      <td>PORT SUSAN, AE</td>\n",
       "      <td>2021-04-08</td>\n",
       "      <td>Create day party decade high clear. Past trade...</td>\n",
       "      <td>https://realpython.github.io/fake-jobs/jobs/da...</td>\n",
       "    </tr>\n",
       "    <tr>\n",
       "      <th>98</th>\n",
       "      <td>FURNITURE DESIGNER</td>\n",
       "      <td>ORTEGA-LAWRENCE</td>\n",
       "      <td>NORTH TIFFANY, AA</td>\n",
       "      <td>2021-04-08</td>\n",
       "      <td>Pressure under rock next week. Recognize so re...</td>\n",
       "      <td>https://realpython.github.io/fake-jobs/jobs/fu...</td>\n",
       "    </tr>\n",
       "    <tr>\n",
       "      <th>99</th>\n",
       "      <td>SHIP BROKER</td>\n",
       "      <td>FUENTES, WALLS AND CASTRO</td>\n",
       "      <td>MICHELLEVILLE, AP</td>\n",
       "      <td>2021-04-08</td>\n",
       "      <td>Management common popular project only. Must s...</td>\n",
       "      <td>https://realpython.github.io/fake-jobs/jobs/sh...</td>\n",
       "    </tr>\n",
       "  </tbody>\n",
       "</table>\n",
       "<p>100 rows × 6 columns</p>\n",
       "</div>"
      ],
      "text/plain": [
       "                                 Title                     Company  \\\n",
       "0              SENIOR PYTHON DEVELOPER    PAYNE, ROBERTS AND DAVIS   \n",
       "1                      ENERGY ENGINEER            VASQUEZ-DAVIDSON   \n",
       "2                      LEGAL EXECUTIVE  JACKSON, CHAMBERS AND LEVY   \n",
       "3               FITNESS CENTRE MANAGER              SAVAGE-BRADLEY   \n",
       "4                      PRODUCT MANAGER                 RAMIREZ INC   \n",
       "..                                 ...                         ...   \n",
       "95  MUSEUM/GALLERY EXHIBITIONS OFFICER     NGUYEN, YODER AND PETTY   \n",
       "96            RADIOGRAPHER, DIAGNOSTIC                  HOLDER LLC   \n",
       "97              DATABASE ADMINISTRATOR              YATES-FERGUSON   \n",
       "98                  FURNITURE DESIGNER             ORTEGA-LAWRENCE   \n",
       "99                         SHIP BROKER   FUENTES, WALLS AND CASTRO   \n",
       "\n",
       "                Location Date Posted  \\\n",
       "0        STEWARTBURY, AA  2021-04-08   \n",
       "1   CHRISTOPHERVILLE, AA  2021-04-08   \n",
       "2    PORT ERICABURGH, AA  2021-04-08   \n",
       "3      EAST SEANVIEW, AP  2021-04-08   \n",
       "4    NORTH JAMIEVIEW, AP  2021-04-08   \n",
       "..                   ...         ...   \n",
       "95      LAKE ABIGAIL, AE  2021-04-08   \n",
       "96        JACOBSHIRE, AP  2021-04-08   \n",
       "97        PORT SUSAN, AE  2021-04-08   \n",
       "98     NORTH TIFFANY, AA  2021-04-08   \n",
       "99     MICHELLEVILLE, AP  2021-04-08   \n",
       "\n",
       "                                      Job Description  \\\n",
       "0   Professional asset web application environment...   \n",
       "1   Party prevent live. Quickly candidate change a...   \n",
       "2   Administration even relate head color. Staff b...   \n",
       "3   Tv program actually race tonight themselves tr...   \n",
       "4   Traditional page a although for study anyone. ...   \n",
       "..                                                ...   \n",
       "95  Paper age physical current note. There reality...   \n",
       "96  Able such right culture. Wrong pick structure ...   \n",
       "97  Create day party decade high clear. Past trade...   \n",
       "98  Pressure under rock next week. Recognize so re...   \n",
       "99  Management common popular project only. Must s...   \n",
       "\n",
       "                                            Apply URL  \n",
       "0   https://realpython.github.io/fake-jobs/jobs/se...  \n",
       "1   https://realpython.github.io/fake-jobs/jobs/en...  \n",
       "2   https://realpython.github.io/fake-jobs/jobs/le...  \n",
       "3   https://realpython.github.io/fake-jobs/jobs/fi...  \n",
       "4   https://realpython.github.io/fake-jobs/jobs/pr...  \n",
       "..                                                ...  \n",
       "95  https://realpython.github.io/fake-jobs/jobs/mu...  \n",
       "96  https://realpython.github.io/fake-jobs/jobs/ra...  \n",
       "97  https://realpython.github.io/fake-jobs/jobs/da...  \n",
       "98  https://realpython.github.io/fake-jobs/jobs/fu...  \n",
       "99  https://realpython.github.io/fake-jobs/jobs/sh...  \n",
       "\n",
       "[100 rows x 6 columns]"
      ]
     },
     "execution_count": 363,
     "metadata": {},
     "output_type": "execute_result"
    }
   ],
   "source": [
    "# .apply(lambda col: col.str.upper()) allows upper to be applied to all three columns at once\n",
    "jobpostinfo[['Title', 'Company', 'Location']] = jobpostinfo[['Title', 'Company', 'Location']].apply(lambda col: col.str.upper())\n",
    "jobpostinfo"
   ]
  },
  {
   "cell_type": "code",
   "execution_count": 364,
   "id": "21e72394-cef8-4ec1-9f88-c9103f4a172b",
   "metadata": {},
   "outputs": [],
   "source": [
    "# Hyperlink Apply URL, save as HTML, save as CSV\n",
    "jobpostinfo['Apply URL'] = jobpostinfo['Apply URL'].apply(\n",
    "    lambda url: f'<a href=\"{url}\" target=\"_blank\">Apply</a>' if url != 'N/A' else 'N/A'\n",
    ")\n",
    "\n",
    "jobpostinfo['Apply URL'] = jobpostinfo['Apply URL'].apply(\n",
    "    lambda url: url if url.startswith('<a href=') or url == 'N/A' else f'<a href=\"{url}\" target=\"_blank\">Apply</a>'\n",
    ")\n",
    "\n",
    "jobpostinfo.to_html('results/jobpostinfo.html', escape=False, index=False)\n",
    "\n",
    "jobpostinfo.to_csv('results/jobpostinfo.csv', index=False)"
   ]
  },
  {
   "cell_type": "code",
   "execution_count": null,
   "id": "668bb417-4881-43e8-a76e-ba733a4fef66",
   "metadata": {},
   "outputs": [],
   "source": []
  }
 ],
 "metadata": {
  "kernelspec": {
   "display_name": "Python [conda env:base] *",
   "language": "python",
   "name": "conda-base-py"
  },
  "language_info": {
   "codemirror_mode": {
    "name": "ipython",
    "version": 3
   },
   "file_extension": ".py",
   "mimetype": "text/x-python",
   "name": "python",
   "nbconvert_exporter": "python",
   "pygments_lexer": "ipython3",
   "version": "3.13.5"
  }
 },
 "nbformat": 4,
 "nbformat_minor": 5
}
